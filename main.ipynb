{
 "cells": [
  {
   "cell_type": "code",
   "execution_count": 1,
   "metadata": {},
   "outputs": [
    {
     "name": "stderr",
     "output_type": "stream",
     "text": [
      "Cloning into 'models'...\n",
      "Updating files:  44% (1626/3659)\n",
      "Updating files:  45% (1647/3659)\n",
      "Updating files:  46% (1684/3659)\n",
      "Updating files:  47% (1720/3659)\n",
      "Updating files:  48% (1757/3659)\n",
      "Updating files:  49% (1793/3659)\n",
      "Updating files:  50% (1830/3659)\n",
      "Updating files:  51% (1867/3659)\n",
      "Updating files:  52% (1903/3659)\n",
      "Updating files:  53% (1940/3659)\n",
      "Updating files:  54% (1976/3659)\n",
      "Updating files:  55% (2013/3659)\n",
      "Updating files:  56% (2050/3659)\n",
      "Updating files:  57% (2086/3659)\n",
      "Updating files:  58% (2123/3659)\n",
      "Updating files:  59% (2159/3659)\n",
      "Updating files:  60% (2196/3659)\n",
      "Updating files:  61% (2232/3659)\n",
      "Updating files:  62% (2269/3659)\n",
      "Updating files:  63% (2306/3659)\n",
      "Updating files:  64% (2342/3659)\n",
      "Updating files:  65% (2379/3659)\n",
      "Updating files:  66% (2415/3659)\n",
      "Updating files:  67% (2452/3659)\n",
      "Updating files:  68% (2489/3659)\n",
      "Updating files:  69% (2525/3659)\n",
      "Updating files:  70% (2562/3659)\n",
      "Updating files:  71% (2598/3659)\n",
      "Updating files:  72% (2635/3659)\n",
      "Updating files:  73% (2672/3659)\n",
      "Updating files:  74% (2708/3659)\n",
      "Updating files:  75% (2745/3659)\n",
      "Updating files:  76% (2781/3659)\n",
      "Updating files:  77% (2818/3659)\n",
      "Updating files:  78% (2855/3659)\n",
      "Updating files:  79% (2891/3659)\n",
      "Updating files:  80% (2928/3659)\n",
      "Updating files:  81% (2964/3659)\n",
      "Updating files:  82% (3001/3659)\n",
      "Updating files:  83% (3037/3659)\n",
      "Updating files:  84% (3074/3659)\n",
      "Updating files:  85% (3111/3659)\n",
      "Updating files:  86% (3147/3659)\n",
      "Updating files:  87% (3184/3659)\n",
      "Updating files:  88% (3220/3659)\n",
      "Updating files:  89% (3257/3659)\n",
      "Updating files:  89% (3272/3659)\n",
      "Updating files:  90% (3294/3659)\n",
      "Updating files:  91% (3330/3659)\n",
      "Updating files:  92% (3367/3659)\n",
      "Updating files:  93% (3403/3659)\n",
      "Updating files:  94% (3440/3659)\n",
      "Updating files:  95% (3477/3659)\n",
      "Updating files:  96% (3513/3659)\n",
      "Updating files:  97% (3550/3659)\n",
      "Updating files:  98% (3586/3659)\n",
      "Updating files:  99% (3623/3659)\n",
      "Updating files: 100% (3659/3659)\n",
      "Updating files: 100% (3659/3659), done.\n"
     ]
    }
   ],
   "source": [
    "import os\n",
    "import pathlib\n",
    "\n",
    "# Clone the tensorflow models repository if it doesn't already exist\n",
    "if \"models\" in pathlib.Path.cwd().parts:\n",
    "  while \"models\" in pathlib.Path.cwd().parts:\n",
    "    os.chdir('..')\n",
    "elif not pathlib.Path('models').exists():\n",
    "  !git clone --depth 1 https://github.com/tensorflow/models"
   ]
  }
 ],
 "metadata": {
  "kernelspec": {
   "display_name": "Python 3",
   "language": "python",
   "name": "python3"
  },
  "language_info": {
   "codemirror_mode": {
    "name": "ipython",
    "version": 3
   },
   "file_extension": ".py",
   "mimetype": "text/x-python",
   "name": "python",
   "nbconvert_exporter": "python",
   "pygments_lexer": "ipython3",
   "version": "3.10.11"
  }
 },
 "nbformat": 4,
 "nbformat_minor": 2
}
